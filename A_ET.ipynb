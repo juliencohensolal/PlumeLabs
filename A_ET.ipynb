{
 "cells": [
  {
   "cell_type": "code",
   "execution_count": 1,
   "metadata": {
    "collapsed": true
   },
   "outputs": [],
   "source": [
    "# Imports\n",
    "import os\n",
    "import pandas as pd\n",
    "import numpy as np\n",
    "from IPython.display import display\n",
    "from sklearn.metrics import mean_squared_error\n",
    "from sklearn.model_selection import KFold, train_test_split\n",
    "from sklearn.ensemble import ExtraTreesRegressor\n",
    "\n",
    "# Definitions\n",
    "pd.set_option('display.float_format', lambda x: '%.3f' % x)\n",
    "%matplotlib inline\n",
    "FOLDS = 5\n",
    "N_JOBS = 6\n",
    "SEED = 2016\n",
    "\n",
    "#DATA = \"Base\"\n",
    "DATA = \"Time\"\n"
   ]
  },
  {
   "cell_type": "code",
   "execution_count": 2,
   "metadata": {
    "collapsed": false
   },
   "outputs": [
    {
     "name": "stdout",
     "output_type": "stream",
     "text": [
      "train : (448169, 43)\n",
      "test : (300891, 43)\n",
      "y : (448169, 2)\n"
     ]
    }
   ],
   "source": [
    "# Get data\n",
    "train = pd.read_csv(\"clean_data/train_\" + DATA + \".csv\")\n",
    "test = pd.read_csv(\"clean_data/test_\" + DATA + \".csv\")\n",
    "y = pd.read_csv(\"raw_data/y.csv\")\n",
    "print(\"train : \" + str(train.shape))\n",
    "print(\"test : \" + str(test.shape))\n",
    "print(\"y : \" + str(y.shape))\n",
    "\n",
    "test_ids = test.ID"
   ]
  },
  {
   "cell_type": "code",
   "execution_count": 3,
   "metadata": {
    "collapsed": false
   },
   "outputs": [
    {
     "name": "stdout",
     "output_type": "stream",
     "text": [
      "X_train.shape : (336126, 43)\n",
      "X_test.shape : (112043, 43)\n",
      "y_train.shape : (336126, 2)\n",
      "y_test.shape : (112043, 2)\n"
     ]
    }
   ],
   "source": [
    "# Split data for final performance check\n",
    "X_train, X_test, y_train, y_test = train_test_split(train, y, test_size = 0.25, random_state = SEED)\n",
    "print(\"X_train.shape : \" + str(X_train.shape))\n",
    "print(\"X_test.shape : \" + str(X_test.shape))\n",
    "print(\"y_train.shape : \" + str(y_train.shape))\n",
    "print(\"y_test.shape : \" + str(y_test.shape))"
   ]
  },
  {
   "cell_type": "code",
   "execution_count": 4,
   "metadata": {
    "collapsed": true
   },
   "outputs": [],
   "source": [
    "# Save y_test for later ensembling\n",
    "name = \"clean_data/y_test.csv\"\n",
    "pd.DataFrame({\"ID\": y_test.ID, \"TARGET\": y_test.TARGET}, columns = [\"ID\", \"TARGET\"]).to_csv(name, index = None)"
   ]
  },
  {
   "cell_type": "code",
   "execution_count": 5,
   "metadata": {
    "collapsed": false
   },
   "outputs": [
    {
     "name": "stdout",
     "output_type": "stream",
     "text": [
      "FOLD : 1\n",
      "-----\n",
      "FOLD : 2\n",
      "-----\n",
      "FOLD : 3\n",
      "-----\n",
      "FOLD : 4\n",
      "-----\n",
      "FOLD : 5\n",
      "-----\n"
     ]
    }
   ],
   "source": [
    "# Generate y_test predictions to be able to optimize ensemble weights\n",
    "preds_y_train = np.zeros((X_train.shape[0],))\n",
    "preds_y_testX = np.empty((FOLDS, X_test.shape[0]))\n",
    "kf = KFold(n_splits = FOLDS, shuffle = True, random_state = SEED)\n",
    "for i, (train_index, val_index) in enumerate(kf.split(X_train)):\n",
    "    print(\"FOLD : \" + str(i + 1))\n",
    "    X_train_fold, X_val_fold = X_train.iloc[train_index], X_train.iloc[val_index]\n",
    "    y_train_fold, y_val_fold = y_train.TARGET.iloc[train_index], y_train.TARGET.iloc[val_index]\n",
    "\n",
    "    # Train model\n",
    "    et = ExtraTreesRegressor(\n",
    "        n_estimators = 200,\n",
    "        criterion = \"mse\", \n",
    "        max_features = 0.5,\n",
    "        max_depth = 10,\n",
    "        min_samples_split = 10,\n",
    "        min_samples_leaf = 5, \n",
    "        bootstrap = True, \n",
    "        n_jobs = N_JOBS,\n",
    "        random_state = (SEED * i))\n",
    "    et.fit(X_train_fold, y_train_fold)                           \n",
    "\n",
    "    # Save y_train and y_test predictions\n",
    "    preds_y_train[val_index] = et.predict(X_val_fold)\n",
    "    preds_y_testX[i, :] = et.predict(X_test)    \n",
    "    print(\"-----\")\n",
    "    \n",
    "# Average predictions on test set\n",
    "preds_y_test = preds_y_testX.mean(axis = 0)"
   ]
  },
  {
   "cell_type": "code",
   "execution_count": 6,
   "metadata": {
    "collapsed": false
   },
   "outputs": [
    {
     "name": "stdout",
     "output_type": "stream",
     "text": [
      "Average ExtraTreesRegressor MSE using OOF predictions : 100.645122382\n",
      "Average ExtraTreesRegressor MSE on last hold-out fold : 102.917850957\n"
     ]
    }
   ],
   "source": [
    "# Show MSE on y_train using KFold CV\n",
    "print(\"Average ExtraTreesRegressor MSE using OOF predictions : \" + str(mean_squared_error(y_train.TARGET, preds_y_train)))\n",
    "\n",
    "# Show MSE on y_test\n",
    "print(\"Average ExtraTreesRegressor MSE on last hold-out fold : \" + str(mean_squared_error(y_test.TARGET, preds_y_test)))"
   ]
  },
  {
   "cell_type": "code",
   "execution_count": 7,
   "metadata": {
    "collapsed": false
   },
   "outputs": [
    {
     "name": "stdout",
     "output_type": "stream",
     "text": [
      "FOLD : 1\n",
      "-----\n",
      "FOLD : 2\n",
      "-----\n",
      "FOLD : 3\n",
      "-----\n",
      "FOLD : 4\n",
      "-----\n",
      "FOLD : 5\n",
      "-----\n"
     ]
    }
   ],
   "source": [
    "# Now generate predictions on whole test set, to be used in ensemble for submissions\n",
    "preds_testX = np.empty((FOLDS, test.shape[0]))\n",
    "kf = KFold(n_splits = FOLDS, shuffle = True, random_state = SEED)\n",
    "for i, (train_index, val_index) in enumerate(kf.split(train)):\n",
    "    print(\"FOLD : \" + str(i + 1))\n",
    "    X_train_fold, X_val_fold = train.iloc[train_index], train.iloc[val_index]\n",
    "    y_train_fold, y_val_fold = y.TARGET.iloc[train_index], y.TARGET.iloc[val_index]\n",
    "\n",
    "    # Train model\n",
    "    et = ExtraTreesRegressor(\n",
    "        n_estimators = 200,\n",
    "        criterion = \"mse\", \n",
    "        max_features = 0.5,\n",
    "        max_depth = 10,\n",
    "        min_samples_split = 10,\n",
    "        min_samples_leaf = 5, \n",
    "        bootstrap = True, \n",
    "        n_jobs = N_JOBS,\n",
    "        random_state = (SEED * i))\n",
    "    et.fit(X_train_fold, y_train_fold)\n",
    "\n",
    "    # Save test set predictions\n",
    "    preds_testX[i, :] = et.predict(test)    \n",
    "    print(\"-----\")\n",
    "    \n",
    "# Average predictions on test set\n",
    "preds_test = preds_testX.mean(axis = 0)"
   ]
  },
  {
   "cell_type": "code",
   "execution_count": 8,
   "metadata": {
    "collapsed": true
   },
   "outputs": [],
   "source": [
    "# Save predictions\n",
    "y_test_name = \"y_test_preds/ExtraTrees_\" + DATA + \".csv\"\n",
    "test_name = \"test_preds/ExtraTrees_\" + DATA + \".csv\"\n",
    "pd.DataFrame({\"ID\": y_test.ID, \"TARGET\": preds_y_test}, columns = [\"ID\", \"TARGET\"]).to_csv(y_test_name, index = None)\n",
    "pd.DataFrame({\"ID\": test.ID, \"TARGET\": preds_test}, columns = [\"ID\", \"TARGET\"]).to_csv(test_name, index = None)"
   ]
  },
  {
   "cell_type": "code",
   "execution_count": null,
   "metadata": {
    "collapsed": true
   },
   "outputs": [],
   "source": []
  }
 ],
 "metadata": {
  "kernelspec": {
   "display_name": "Python [Root]",
   "language": "python",
   "name": "Python [Root]"
  },
  "language_info": {
   "codemirror_mode": {
    "name": "ipython",
    "version": 3
   },
   "file_extension": ".py",
   "mimetype": "text/x-python",
   "name": "python",
   "nbconvert_exporter": "python",
   "pygments_lexer": "ipython3",
   "version": "3.5.2"
  }
 },
 "nbformat": 4,
 "nbformat_minor": 0
}
