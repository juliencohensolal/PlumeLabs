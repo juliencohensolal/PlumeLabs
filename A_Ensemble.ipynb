{
 "cells": [
  {
   "cell_type": "code",
   "execution_count": 1,
   "metadata": {
    "collapsed": true
   },
   "outputs": [],
   "source": [
    "# Imports\n",
    "import pandas as pd\n",
    "import numpy as np\n",
    "import datetime\n",
    "from scipy.optimize import minimize\n",
    "from sklearn.metrics import mean_squared_error\n",
    "\n",
    "# Definitions\n",
    "pd.set_option('display.float_format', lambda x: '%.3f' % x)\n",
    "%matplotlib inline\n",
    "FOLDS = 5\n",
    "N_JOBS = 6\n",
    "SEED = 2016\n"
   ]
  },
  {
   "cell_type": "code",
   "execution_count": 2,
   "metadata": {
    "collapsed": false
   },
   "outputs": [
    {
     "name": "stdout",
     "output_type": "stream",
     "text": [
      "y_test : (156123,)\n",
      "test : (300891, 34)\n"
     ]
    }
   ],
   "source": [
    "# Load test sets\n",
    "y_test = pd.read_csv(\"clean_data/y_test.csv\").TARGET\n",
    "test = pd.read_csv(\"clean_data/test_Base.csv\")\n",
    "print(\"y_test : \" + str(y_test.shape))\n",
    "print(\"test : \" + str(test.shape))"
   ]
  },
  {
   "cell_type": "code",
   "execution_count": 3,
   "metadata": {
    "collapsed": false
   },
   "outputs": [
    {
     "name": "stdout",
     "output_type": "stream",
     "text": [
      "(156123,)\n",
      "(156123,)\n"
     ]
    },
    {
     "data": {
      "text/plain": [
       "'print(XGB_Base.shape)\\nprint(XGB_Time.shape)\\nprint(LightGBM_Base.shape)\\nprint(LightGBM_Time.shape)\\nprint(RandomForests_Base.shape)\\nprint(RandomForests_Time.shape)'"
      ]
     },
     "execution_count": 3,
     "metadata": {},
     "output_type": "execute_result"
    }
   ],
   "source": [
    "# Load  predictions on held out fold\n",
    "XGB_Time = np.array(pd.read_csv(\"y_test_preds/XGB_Time_0-01_goodSettings.csv\").TARGET)\n",
    "LGBM_Time = np.array(pd.read_csv(\"y_test_preds/LGBM_Time.csv\").TARGET)\n",
    "'''XGB_Base = np.array(pd.read_csv(\"y_test_preds/XGB_Base.csv\").TARGET)\n",
    "XGB_Time = np.array(pd.read_csv(\"y_test_preds/XGB_Time.csv\").TARGET)\n",
    "LightGBM_Base = np.array(pd.read_csv(\"y_test_preds/LightGBM_Base.csv\").TARGET)\n",
    "LightGBM_Time = np.array(pd.read_csv(\"y_test_preds/LightGBM_Time.csv\").TARGET)\n",
    "RandomForests_Base = np.array(pd.read_csv(\"y_test_preds/RandomForests_Base.csv\").TARGET)\n",
    "RandomForests_Time = np.array(pd.read_csv(\"y_test_preds/RandomForests_Time.csv\").TARGET)\n",
    "ExtraTrees_Base = np.array(pd.read_csv(\"y_test_preds/ExtraTrees_Base.csv\").TARGET)\n",
    "ExtraTrees_Time = np.array(pd.read_csv(\"y_test_preds/ExtraTrees_Time.csv\").TARGET)\n",
    "Lasso_Base = np.array(pd.read_csv(\"y_test_preds/Lasso_Base.csv\").TARGET)\n",
    "Lasso_Time = np.array(pd.read_csv(\"y_test_preds/Lasso_Time.csv\").TARGET)'''\n",
    "\n",
    "preds_y_test = []\n",
    "preds_y_test.append(XGB_Time)\n",
    "preds_y_test.append(LGBM_Time)\n",
    "'''preds_y_test.append(XGB_Base)\n",
    "preds_y_test.append(XGB_Time)\n",
    "preds_y_test.append(LightGBM_Base)\n",
    "preds_y_test.append(LightGBM_Time)\n",
    "preds_y_test.append(RandomForests_Base)\n",
    "preds_y_test.append(RandomForests_Time)\n",
    "preds_y_test.append(ExtraTrees_Base)\n",
    "preds_y_test.append(ExtraTrees_Time)\n",
    "preds_y_test.append(Lasso_Base)\n",
    "preds_y_test.append(Lasso_Time)'''\n",
    "\n",
    "names = []\n",
    "names.append(\"XGB_Time\")\n",
    "names.append(\"LGBM_Time\")\n",
    "'''names.append(\"XGB_Base\")\n",
    "names.append(\"XGB_Time\")\n",
    "names.append(\"LightGBM_Base\")\n",
    "names.append(\"LightGBM_Time\")\n",
    "names.append(\"RandomForests_Base\")\n",
    "names.append(\"RandomForests_Time\")\n",
    "names.append(\"ExtraTrees_Base\")\n",
    "names.append(\"ExtraTrees_Time\")\n",
    "names.append(\"Lasso_Base\")\n",
    "names.append(\"Lasso_Time\")'''\n",
    "\n",
    "print(XGB_Time.shape)\n",
    "print(LGBM_Time.shape)\n",
    "'''print(XGB_Base.shape)\n",
    "print(XGB_Time.shape)\n",
    "print(LightGBM_Base.shape)\n",
    "print(LightGBM_Time.shape)\n",
    "print(RandomForests_Base.shape)\n",
    "print(RandomForests_Time.shape)'''\n"
   ]
  },
  {
   "cell_type": "code",
   "execution_count": 4,
   "metadata": {
    "collapsed": false
   },
   "outputs": [
    {
     "name": "stdout",
     "output_type": "stream",
     "text": [
      "XGB_Time on held out fold : 97.5314318575\n",
      "LGBM_Time on held out fold : 110.296867735\n"
     ]
    },
    {
     "data": {
      "text/plain": [
       "'print(\"XGB_Base on held out fold : \" + str(mean_squared_error(y_test, XGB_Base)))\\nprint(\"XGB_Time on held out fold : \" + str(mean_squared_error(y_test, XGB_Time)))\\nprint(\"LightGBM_Base on held out fold : \" + str(mean_squared_error(y_test, LightGBM_Base)))\\nprint(\"LightGBM_Time on held out fold : \" + str(mean_squared_error(y_test, LightGBM_Time)))\\nprint(\"RandomForests_Base on held out fold : \" + str(mean_squared_error(y_test, RandomForests_Base)))\\nprint(\"RandomForests_Time on held out fold : \" + str(mean_squared_error(y_test, RandomForests_Time)))\\nprint(\"ExtraTrees_Base on held out fold : \" + str(mean_squared_error(y_test, ExtraTrees_Base)))\\nprint(\"ExtraTrees_Time on held out fold : \" + str(mean_squared_error(y_test, ExtraTrees_Time)))\\nprint(\"Lasso_Base on held out fold : \" + str(mean_squared_error(y_test, Lasso_Base)))\\nprint(\"Lasso_Time on held out fold : \" + str(mean_squared_error(y_test, Lasso_Time)))'"
      ]
     },
     "execution_count": 4,
     "metadata": {},
     "output_type": "execute_result"
    }
   ],
   "source": [
    "# Remind scores of single models on held out fold\n",
    "print(\"XGB_Time on held out fold : \" + str(mean_squared_error(y_test, XGB_Time)))\n",
    "print(\"LGBM_Time on held out fold : \" + str(mean_squared_error(y_test, LGBM_Time)))\n",
    "'''print(\"XGB_Base on held out fold : \" + str(mean_squared_error(y_test, XGB_Base)))\n",
    "print(\"XGB_Time on held out fold : \" + str(mean_squared_error(y_test, XGB_Time)))\n",
    "print(\"LightGBM_Base on held out fold : \" + str(mean_squared_error(y_test, LightGBM_Base)))\n",
    "print(\"LightGBM_Time on held out fold : \" + str(mean_squared_error(y_test, LightGBM_Time)))\n",
    "print(\"RandomForests_Base on held out fold : \" + str(mean_squared_error(y_test, RandomForests_Base)))\n",
    "print(\"RandomForests_Time on held out fold : \" + str(mean_squared_error(y_test, RandomForests_Time)))\n",
    "print(\"ExtraTrees_Base on held out fold : \" + str(mean_squared_error(y_test, ExtraTrees_Base)))\n",
    "print(\"ExtraTrees_Time on held out fold : \" + str(mean_squared_error(y_test, ExtraTrees_Time)))\n",
    "print(\"Lasso_Base on held out fold : \" + str(mean_squared_error(y_test, Lasso_Base)))\n",
    "print(\"Lasso_Time on held out fold : \" + str(mean_squared_error(y_test, Lasso_Time)))'''\n"
   ]
  },
  {
   "cell_type": "code",
   "execution_count": 5,
   "metadata": {
    "collapsed": false
   },
   "outputs": [
    {
     "name": "stdout",
     "output_type": "stream",
     "text": [
      "\n",
      " Ensemble Score: 94.37539762164165\n",
      "\n",
      " Best Weights: [ 0.91734011  0.00941541]\n",
      "\n",
      " Names: ['XGB_Time', 'LGBM_Time']\n"
     ]
    }
   ],
   "source": [
    "# Optimize ensemble weights on held out fold\n",
    "\n",
    "# Define function to minimize\n",
    "def mse_target_func(weights):\n",
    "    final_prediction = 0\n",
    "    for weight, prediction in zip(weights, preds_y_test):\n",
    "        final_prediction += weight * prediction\n",
    "    return (mean_squared_error(y_test, final_prediction))\n",
    "\n",
    "scores = []\n",
    "weights = []\n",
    "for i in range(100):\n",
    "    # Choose many random starting weights\n",
    "    starting_values = np.random.uniform(size = len(preds_y_test))\n",
    "    \n",
    "    # Our weights are bound between 0 and 1\n",
    "    bounds = [(0, 1)] * len(preds_y_test)\n",
    "\n",
    "    res = minimize(\n",
    "        mse_target_func, \n",
    "        starting_values, \n",
    "        method = \"SLSQP\", \n",
    "        bounds = bounds, \n",
    "        options = {\"maxiter\" : 10000})\n",
    "    \n",
    "    scores.append(res[\"fun\"])\n",
    "    weights.append(res[\"x\"])\n",
    "\n",
    "bestSC = np.min(scores)\n",
    "bestWght = weights[np.argmin(scores)]\n",
    "\n",
    "print(\"\\n Ensemble Score: {}\".format(bestSC))\n",
    "print(\"\\n Best Weights: {}\".format(bestWght))\n",
    "print(\"\\n Names: {}\".format(names))"
   ]
  },
  {
   "cell_type": "code",
   "execution_count": 23,
   "metadata": {
    "collapsed": false
   },
   "outputs": [
    {
     "data": {
      "text/plain": [
       "'preds_test.append(pd.read_csv(\"test_preds/XGB_Base.csv\"))\\npreds_test.append(pd.read_csv(\"test_preds/XGB_Time.csv\"))\\npreds_test.append(pd.read_csv(\"test_preds/LightGBM_Base.csv\"))\\npreds_test.append(pd.read_csv(\"test_preds/LightGBM_Time.csv\"))\\npreds_test.append(pd.read_csv(\"test_preds/RandomForests_Base.csv\"))\\npreds_test.append(pd.read_csv(\"test_preds/RandomForests_Time.csv\"))\\npreds_test.append(pd.read_csv(\"test_preds/ExtraTrees_Base.csv\"))\\npreds_test.append(pd.read_csv(\"test_preds/ExtraTrees_Time.csv\"))\\npreds_test.append(pd.read_csv(\"test_preds/Lasso_Base.csv\"))\\npreds_test.append(pd.read_csv(\"test_preds/Lasso_Time.csv\"))'"
      ]
     },
     "execution_count": 23,
     "metadata": {},
     "output_type": "execute_result"
    }
   ],
   "source": [
    "# Load predictions on whole test set\n",
    "preds_test = []\n",
    "preds_test.append(pd.read_csv(\"test_preds/XGB_Time_0-01_goodSettings.csv\", sep = \";\"))\n",
    "preds_test.append(pd.read_csv(\"test_preds/LGBM_Time.csv\", sep = \";\"))\n",
    "'''preds_test.append(pd.read_csv(\"test_preds/XGB_Base.csv\"))\n",
    "preds_test.append(pd.read_csv(\"test_preds/XGB_Time.csv\"))\n",
    "preds_test.append(pd.read_csv(\"test_preds/LightGBM_Base.csv\"))\n",
    "preds_test.append(pd.read_csv(\"test_preds/LightGBM_Time.csv\"))\n",
    "preds_test.append(pd.read_csv(\"test_preds/RandomForests_Base.csv\"))\n",
    "preds_test.append(pd.read_csv(\"test_preds/RandomForests_Time.csv\"))\n",
    "preds_test.append(pd.read_csv(\"test_preds/ExtraTrees_Base.csv\"))\n",
    "preds_test.append(pd.read_csv(\"test_preds/ExtraTrees_Time.csv\"))\n",
    "preds_test.append(pd.read_csv(\"test_preds/Lasso_Base.csv\"))\n",
    "preds_test.append(pd.read_csv(\"test_preds/Lasso_Time.csv\"))'''\n"
   ]
  },
  {
   "cell_type": "code",
   "execution_count": 26,
   "metadata": {
    "collapsed": false
   },
   "outputs": [],
   "source": [
    "# Prepare submission using optimal weights\n",
    "preds_ens = 0\n",
    "for i in range(0, len(bestWght)) :\n",
    "    preds_ens += (bestWght[i] * preds_test[i])"
   ]
  },
  {
   "cell_type": "code",
   "execution_count": 27,
   "metadata": {
    "collapsed": false
   },
   "outputs": [],
   "source": [
    "# Save test set preds on file\n",
    "now = datetime.datetime.now()\n",
    "name = \"test_preds/preds_ens_\" + str(now.strftime(\"%Y-%m-%d-%H-%M\")) + \".csv\"\n",
    "pd.DataFrame({\"ID\": test.ID, \"TARGET\": preds_ens.TARGET}, columns = [\"ID\", \"TARGET\"]).to_csv(name, index = False)"
   ]
  },
  {
   "cell_type": "code",
   "execution_count": null,
   "metadata": {
    "collapsed": true
   },
   "outputs": [],
   "source": []
  }
 ],
 "metadata": {
  "anaconda-cloud": {},
  "kernelspec": {
   "display_name": "Python [Root]",
   "language": "python",
   "name": "Python [Root]"
  },
  "language_info": {
   "codemirror_mode": {
    "name": "ipython",
    "version": 3
   },
   "file_extension": ".py",
   "mimetype": "text/x-python",
   "name": "python",
   "nbconvert_exporter": "python",
   "pygments_lexer": "ipython3",
   "version": "3.5.2"
  }
 },
 "nbformat": 4,
 "nbformat_minor": 0
}
