{
 "cells": [
  {
   "cell_type": "code",
   "execution_count": 1,
   "metadata": {
    "collapsed": false
   },
   "outputs": [
    {
     "name": "stderr",
     "output_type": "stream",
     "text": [
      "C:\\Anaconda3\\lib\\site-packages\\sklearn\\cross_validation.py:44: DeprecationWarning: This module was deprecated in version 0.18 in favor of the model_selection module into which all the refactored classes and functions are moved. Also note that the interface of the new CV iterators are different from that of this module. This module will be removed in 0.20.\n",
      "  \"This module will be removed in 0.20.\", DeprecationWarning)\n"
     ]
    }
   ],
   "source": [
    "# Imports\n",
    "import pandas as pd\n",
    "import numpy as np\n",
    "from IPython.display import display\n",
    "import matplotlib.pyplot as plt\n",
    "import seaborn as sns\n",
    "from sklearn.metrics import mean_squared_error\n",
    "import xgboost as xgb\n",
    "import operator\n",
    "\n",
    "# Definitions\n",
    "pd.set_option('display.float_format', lambda x: '%.3f' % x)\n",
    "%matplotlib inline\n",
    "FOLDS = 4\n",
    "N_JOBS = 6\n",
    "SEED = 2016\n",
    "\n",
    "#DATA = \"Base\"\n",
    "#DATA = \"Time\"\n",
    "#DATA = \"Medians\"\n",
    "DATA = \"Super\"\n"
   ]
  },
  {
   "cell_type": "code",
   "execution_count": 2,
   "metadata": {
    "collapsed": false
   },
   "outputs": [],
   "source": [
    "# Get data\n",
    "train = pd.read_csv(\"clean_data/train_\" + DATA + \".csv\")\n",
    "y = pd.read_csv(\"clean_data/y.csv\")\n",
    "\n",
    "X_train = pd.read_csv(\"clean_data/X_train_\" + DATA + \".csv\")\n",
    "y_train = pd.read_csv(\"clean_data/y_train.csv\")\n",
    "\n",
    "X_trainVal = pd.read_csv(\"clean_data/X_trainVal_\" + DATA + \".csv\")\n",
    "y_trainVal = pd.read_csv(\"clean_data/y_trainVal.csv\")\n",
    "\n",
    "test = pd.read_csv(\"clean_data/test_\" + DATA + \".csv\")\n",
    "\n",
    "X_test = pd.read_csv(\"clean_data/X_test_\" + DATA + \".csv\")\n",
    "y_test = pd.read_csv(\"clean_data/y_test.csv\")\n",
    "\n",
    "X_testVal = pd.read_csv(\"clean_data/X_testVal_\" + DATA + \".csv\")\n",
    "y_testVal = pd.read_csv(\"clean_data/y_testVal.csv\")\n"
   ]
  },
  {
   "cell_type": "code",
   "execution_count": 3,
   "metadata": {
    "collapsed": true
   },
   "outputs": [],
   "source": [
    "# Definitions for XGBoost\n",
    "\n",
    "xg_params = {\n",
    "    \"booster\" : \"gbtree\", \n",
    "    \"eta\" : 0.01,\n",
    "    \"max_depth\" : 7,\n",
    "    \"min_child_weight\" : 11,\n",
    "    \"subsample\" : 0.99,\n",
    "    \"colsample_bytree\" : 0.98,\n",
    "    \"colsample_bylevel\" : 0.80,\n",
    "    \"gamma\" : 0.05,\n",
    "    \"base_score\" : 0.15,\n",
    "    \"objective\" : \"reg:linear\",\n",
    "}\n",
    "\n",
    "def xgb_mse(preds, dtrain) :\n",
    "    labels = dtrain.get_label()\n",
    "    return (\"mse\", mean_squared_error(preds, labels))\n",
    "\n",
    "def run_xgb(X_trainVal, y_trainVal, X_testVal, y_testVal, X_train, y_train) :\n",
    "    xg_trainVal = xgb.DMatrix(X_trainVal, label = y_trainVal)\n",
    "    xg_testVal = xgb.DMatrix(X_testVal, label = y_testVal)\n",
    "    xg_train = xgb.DMatrix(X_train, label = y_train)\n",
    "    \n",
    "    watchlist = [(xg_trainVal, \"train\"), (xg_testVal, \"eval\")]    \n",
    "    \n",
    "    # Train model\n",
    "    xg = xgb.train(\n",
    "        params = xg_params,\n",
    "        dtrain = xg_trainVal,\n",
    "        evals = watchlist, \n",
    "        num_boost_round = 100000,\n",
    "        early_stopping_rounds = 100,\n",
    "        feval = xgb_mse, \n",
    "        maximize = False,\n",
    "        verbose_eval = 250)\n",
    "    \n",
    "    print(\"XGBOOST best_iteration \" + str(xg.best_iteration))\n",
    "    print(\"XGBOOST best_score \" + str(xg.best_score))\n",
    "    \n",
    "    xg = xgb.train(\n",
    "        params = xg_params, \n",
    "        dtrain = xg_train, \n",
    "        num_boost_round = int(xg.best_ntree_limit / 0.67),\n",
    "        feval = xgb_mse, \n",
    "        maximize = False,\n",
    "        verbose_eval = 250)\n",
    "\n",
    "    return (xg_testVal, xg)"
   ]
  },
  {
   "cell_type": "code",
   "execution_count": 4,
   "metadata": {
    "collapsed": false
   },
   "outputs": [
    {
     "name": "stdout",
     "output_type": "stream",
     "text": [
      "[0]\ttrain-mse:778.267\teval-mse:651.764\n",
      "Multiple eval metrics have been passed: 'eval-mse' will be used for early stopping.\n",
      "\n",
      "Will train until eval-mse hasn't improved in 100 rounds.\n",
      "[250]\ttrain-mse:129.201\teval-mse:184.272\n",
      "[500]\ttrain-mse:99.9629\teval-mse:180.025\n",
      "[750]\ttrain-mse:89.3963\teval-mse:177.886\n",
      "[1000]\ttrain-mse:82.6586\teval-mse:176.51\n",
      "[1250]\ttrain-mse:77.4496\teval-mse:174.627\n",
      "[1500]\ttrain-mse:73.5631\teval-mse:173.582\n",
      "[1750]\ttrain-mse:70.3797\teval-mse:173.021\n",
      "[2000]\ttrain-mse:67.8328\teval-mse:172.524\n",
      "[2250]\ttrain-mse:65.6759\teval-mse:172.014\n",
      "[2500]\ttrain-mse:63.6205\teval-mse:171.558\n",
      "[2750]\ttrain-mse:61.8044\teval-mse:171.016\n",
      "[3000]\ttrain-mse:60.3032\teval-mse:170.685\n",
      "[3250]\ttrain-mse:58.8217\teval-mse:170.416\n",
      "[3500]\ttrain-mse:57.4725\teval-mse:170.2\n",
      "[3750]\ttrain-mse:56.2154\teval-mse:169.969\n",
      "[4000]\ttrain-mse:55.0308\teval-mse:169.583\n",
      "[4250]\ttrain-mse:53.8555\teval-mse:169.397\n",
      "[4500]\ttrain-mse:52.7622\teval-mse:169.135\n",
      "[4750]\ttrain-mse:51.7706\teval-mse:168.981\n",
      "[5000]\ttrain-mse:50.7742\teval-mse:168.836\n",
      "[5250]\ttrain-mse:49.9387\teval-mse:168.655\n",
      "[5500]\ttrain-mse:49.1115\teval-mse:168.487\n",
      "[5750]\ttrain-mse:48.303\teval-mse:168.329\n",
      "[6000]\ttrain-mse:47.4379\teval-mse:168.131\n",
      "[6250]\ttrain-mse:46.5663\teval-mse:167.921\n",
      "Stopping. Best iteration:\n",
      "[6315]\ttrain-mse:46.3566\teval-mse:167.894\n",
      "\n",
      "XGBOOST best_iteration 6315\n",
      "XGBOOST best_score 167.893784\n"
     ]
    }
   ],
   "source": [
    "# Generate y_test predictions to be able to optimize ensemble weights\n",
    "xg_test = xgb.DMatrix(X_test)\n",
    "\n",
    "xg_val, xg = run_xgb(X_trainVal, y_trainVal.TARGET, X_testVal, y_testVal.TARGET, X_train, y_train.TARGET)\n",
    "preds_y_test = xg.predict(xg_test) "
   ]
  },
  {
   "cell_type": "code",
   "execution_count": 5,
   "metadata": {
    "collapsed": false
   },
   "outputs": [
    {
     "name": "stdout",
     "output_type": "stream",
     "text": [
      "Average XGB MSE on held-out fold : 96.6331186896\n"
     ]
    }
   ],
   "source": [
    "# Show MSE on y_test\n",
    "print(\"Average XGB MSE on held-out fold : \" + str(mean_squared_error(y_test.TARGET, preds_y_test)))\n"
   ]
  },
  {
   "cell_type": "code",
   "execution_count": 6,
   "metadata": {
    "collapsed": false
   },
   "outputs": [
    {
     "data": {
      "image/png": "[encoded data removed]",
      "text/plain": [
       "<matplotlib.figure.Figure at 0x23ae59331d0>"
      ]
     },
     "metadata": {},
     "output_type": "display_data"
    },
    {
     "data": {
      "text/plain": [
       "()"
      ]
     },
     "execution_count": 6,
     "metadata": {},
     "output_type": "execute_result"
    }
   ],
   "source": [
    "# Plot predictions\n",
    "def plotPreds(preds, reals, xlbl, ylbl, dim) :\n",
    "    plt.scatter(preds, reals, c = \"lightgreen\", marker = \"s\", label = \"\")\n",
    "    plt.xlabel(xlbl)\n",
    "    plt.ylabel(ylbl)\n",
    "    plt.plot([0, dim], [0, dim], c = \"red\")\n",
    "    plt.show()\n",
    "    return()\n",
    "\n",
    "plotPreds(preds_y_test, y_test.TARGET, \"preds_y_test\", \"y_test\", 125)\n"
   ]
  },
  {
   "cell_type": "code",
   "execution_count": 7,
   "metadata": {
    "collapsed": true
   },
   "outputs": [],
   "source": [
    "# Save held-out fold predictions\n",
    "y_test_name = \"y_test_preds/XGB_\" + DATA + \".csv\"\n",
    "pd.DataFrame({\"TARGET\": preds_y_test}).to_csv(y_test_name, index = None, sep = \";\")\n"
   ]
  },
  {
   "cell_type": "code",
   "execution_count": 8,
   "metadata": {
    "collapsed": false,
    "scrolled": false
   },
   "outputs": [
    {
     "name": "stdout",
     "output_type": "stream",
     "text": [
      "DATA : Super\n",
      "[0]\ttrain-mse:718.068\teval-mse:575.109\n",
      "Multiple eval metrics have been passed: 'eval-mse' will be used for early stopping.\n",
      "\n",
      "Will train until eval-mse hasn't improved in 100 rounds.\n",
      "[250]\ttrain-mse:127.151\teval-mse:139.798\n",
      "[500]\ttrain-mse:98.2009\teval-mse:127.837\n",
      "[750]\ttrain-mse:87.4081\teval-mse:121.378\n",
      "[1000]\ttrain-mse:80.735\teval-mse:117.294\n",
      "[1250]\ttrain-mse:75.8504\teval-mse:114.602\n",
      "[1500]\ttrain-mse:72.3805\teval-mse:112.527\n",
      "[1750]\ttrain-mse:69.796\teval-mse:111.102\n",
      "[2000]\ttrain-mse:67.3989\teval-mse:109.76\n",
      "[2250]\ttrain-mse:65.1953\teval-mse:108.515\n",
      "[2500]\ttrain-mse:63.3863\teval-mse:107.488\n",
      "[2750]\ttrain-mse:61.7543\teval-mse:106.537\n",
      "[3000]\ttrain-mse:60.2315\teval-mse:105.765\n",
      "[3250]\ttrain-mse:58.848\teval-mse:105.066\n",
      "[3500]\ttrain-mse:57.4392\teval-mse:104.301\n",
      "[3750]\ttrain-mse:56.3007\teval-mse:103.726\n",
      "[4000]\ttrain-mse:55.2009\teval-mse:103.173\n",
      "[4250]\ttrain-mse:54.1444\teval-mse:102.634\n",
      "[4500]\ttrain-mse:53.1468\teval-mse:102.129\n",
      "[4750]\ttrain-mse:52.2284\teval-mse:101.692\n",
      "[5000]\ttrain-mse:51.3712\teval-mse:101.309\n",
      "[5250]\ttrain-mse:50.4955\teval-mse:100.917\n",
      "[5500]\ttrain-mse:49.6457\teval-mse:100.51\n",
      "[5750]\ttrain-mse:48.8457\teval-mse:100.102\n",
      "[6000]\ttrain-mse:48.1398\teval-mse:99.8298\n",
      "[6250]\ttrain-mse:47.4688\teval-mse:99.552\n",
      "[6500]\ttrain-mse:46.811\teval-mse:99.2743\n",
      "[6750]\ttrain-mse:46.1505\teval-mse:99.0102\n",
      "[7000]\ttrain-mse:45.5275\teval-mse:98.721\n",
      "[7250]\ttrain-mse:44.9172\teval-mse:98.436\n",
      "[7500]\ttrain-mse:44.3604\teval-mse:98.2122\n",
      "[7750]\ttrain-mse:43.8443\teval-mse:97.9994\n",
      "[8000]\ttrain-mse:43.2924\teval-mse:97.7853\n",
      "[8250]\ttrain-mse:42.7234\teval-mse:97.5427\n",
      "[8500]\ttrain-mse:42.1844\teval-mse:97.3573\n",
      "[8750]\ttrain-mse:41.6653\teval-mse:97.1838\n",
      "[9000]\ttrain-mse:41.1461\teval-mse:96.9607\n",
      "[9250]\ttrain-mse:40.6381\teval-mse:96.7663\n",
      "[9500]\ttrain-mse:40.1909\teval-mse:96.5868\n",
      "[9750]\ttrain-mse:39.7412\teval-mse:96.4172\n",
      "[10000]\ttrain-mse:39.3341\teval-mse:96.3028\n",
      "[10250]\ttrain-mse:38.9085\teval-mse:96.1537\n",
      "[10500]\ttrain-mse:38.533\teval-mse:96.0289\n",
      "[10750]\ttrain-mse:38.1376\teval-mse:95.9098\n",
      "[11000]\ttrain-mse:37.7628\teval-mse:95.7827\n",
      "[11250]\ttrain-mse:37.3905\teval-mse:95.665\n",
      "[11500]\ttrain-mse:37.0063\teval-mse:95.5225\n",
      "[11750]\ttrain-mse:36.6401\teval-mse:95.3874\n",
      "[12000]\ttrain-mse:36.3048\teval-mse:95.2707\n",
      "[12250]\ttrain-mse:35.9685\teval-mse:95.1539\n",
      "[12500]\ttrain-mse:35.6257\teval-mse:95.028\n",
      "[12750]\ttrain-mse:35.3238\teval-mse:94.94\n",
      "[13000]\ttrain-mse:35.0255\teval-mse:94.8339\n",
      "[13250]\ttrain-mse:34.7265\teval-mse:94.7329\n",
      "[13500]\ttrain-mse:34.3957\teval-mse:94.6199\n",
      "[13750]\ttrain-mse:34.0896\teval-mse:94.5174\n",
      "[14000]\ttrain-mse:33.7807\teval-mse:94.418\n",
      "[14250]\ttrain-mse:33.4934\teval-mse:94.3209\n",
      "[14500]\ttrain-mse:33.198\teval-mse:94.2126\n",
      "[14750]\ttrain-mse:32.9187\teval-mse:94.098\n",
      "[15000]\ttrain-mse:32.6519\teval-mse:93.9984\n",
      "[15250]\ttrain-mse:32.3752\teval-mse:93.8985\n",
      "[15500]\ttrain-mse:32.1149\teval-mse:93.7966\n",
      "[15750]\ttrain-mse:31.8672\teval-mse:93.7125\n",
      "[16000]\ttrain-mse:31.6031\teval-mse:93.6135\n",
      "[16250]\ttrain-mse:31.3525\teval-mse:93.5189\n",
      "[16500]\ttrain-mse:31.1311\teval-mse:93.4491\n",
      "[16750]\ttrain-mse:30.9013\teval-mse:93.3729\n",
      "[17000]\ttrain-mse:30.6604\teval-mse:93.2938\n",
      "[17250]\ttrain-mse:30.4379\teval-mse:93.2275\n",
      "[17500]\ttrain-mse:30.2122\teval-mse:93.1682\n",
      "[17750]\ttrain-mse:29.9885\teval-mse:93.0864\n",
      "[18000]\ttrain-mse:29.7715\teval-mse:93.0182\n",
      "[18250]\ttrain-mse:29.552\teval-mse:92.9327\n",
      "[18500]\ttrain-mse:29.3602\teval-mse:92.8668\n",
      "[18750]\ttrain-mse:29.1528\teval-mse:92.8026\n",
      "[19000]\ttrain-mse:28.942\teval-mse:92.7216\n",
      "[19250]\ttrain-mse:28.7369\teval-mse:92.6493\n",
      "[19500]\ttrain-mse:28.5474\teval-mse:92.5982\n",
      "[19750]\ttrain-mse:28.3384\teval-mse:92.518\n",
      "[20000]\ttrain-mse:28.1445\teval-mse:92.4509\n",
      "[20250]\ttrain-mse:27.9479\teval-mse:92.4004\n",
      "[20500]\ttrain-mse:27.7611\teval-mse:92.3522\n",
      "[20750]\ttrain-mse:27.5794\teval-mse:92.3107\n",
      "[21000]\ttrain-mse:27.3995\teval-mse:92.2469\n",
      "[21250]\ttrain-mse:27.234\teval-mse:92.1963\n",
      "[21500]\ttrain-mse:27.0477\teval-mse:92.1214\n",
      "[21750]\ttrain-mse:26.8718\teval-mse:92.0735\n",
      "[22000]\ttrain-mse:26.6953\teval-mse:92.0092\n",
      "[22250]\ttrain-mse:26.5115\teval-mse:91.9519\n",
      "[22500]\ttrain-mse:26.3457\teval-mse:91.8961\n",
      "[22750]\ttrain-mse:26.1918\teval-mse:91.849\n",
      "[23000]\ttrain-mse:26.0344\teval-mse:91.7963\n",
      "[23250]\ttrain-mse:25.8682\teval-mse:91.7592\n",
      "[23500]\ttrain-mse:25.7041\teval-mse:91.7121\n",
      "[23750]\ttrain-mse:25.5397\teval-mse:91.6536\n",
      "[24000]\ttrain-mse:25.3892\teval-mse:91.6104\n",
      "[24250]\ttrain-mse:25.2436\teval-mse:91.5675\n",
      "[24500]\ttrain-mse:25.0842\teval-mse:91.5274\n",
      "[24750]\ttrain-mse:24.9428\teval-mse:91.4857\n",
      "[25000]\ttrain-mse:24.7937\teval-mse:91.4474\n",
      "[25250]\ttrain-mse:24.6439\teval-mse:91.4024\n",
      "[25500]\ttrain-mse:24.4782\teval-mse:91.3517\n",
      "[25750]\ttrain-mse:24.3324\teval-mse:91.3122\n",
      "[26000]\ttrain-mse:24.1886\teval-mse:91.2665\n",
      "[26250]\ttrain-mse:24.0579\teval-mse:91.232\n",
      "[26500]\ttrain-mse:23.9129\teval-mse:91.1916\n",
      "[26750]\ttrain-mse:23.7761\teval-mse:91.1631\n",
      "[27000]\ttrain-mse:23.6438\teval-mse:91.1213\n",
      "[27250]\ttrain-mse:23.5072\teval-mse:91.0777\n",
      "[27500]\ttrain-mse:23.3714\teval-mse:91.0381\n",
      "[27750]\ttrain-mse:23.2287\teval-mse:90.99\n",
      "[28000]\ttrain-mse:23.0943\teval-mse:90.9526\n",
      "[28250]\ttrain-mse:22.9623\teval-mse:90.9044\n",
      "[28500]\ttrain-mse:22.8258\teval-mse:90.8714\n",
      "[28750]\ttrain-mse:22.6951\teval-mse:90.8324\n",
      "[29000]\ttrain-mse:22.5639\teval-mse:90.7975\n",
      "[29250]\ttrain-mse:22.439\teval-mse:90.7608\n",
      "[29500]\ttrain-mse:22.3253\teval-mse:90.7342\n",
      "[29750]\ttrain-mse:22.201\teval-mse:90.7022\n",
      "[30000]\ttrain-mse:22.0764\teval-mse:90.67\n",
      "[30250]\ttrain-mse:21.9584\teval-mse:90.6456\n",
      "[30500]\ttrain-mse:21.8321\teval-mse:90.6086\n",
      "[30750]\ttrain-mse:21.7199\teval-mse:90.5812\n",
      "[31000]\ttrain-mse:21.5986\teval-mse:90.5492\n",
      "[31250]\ttrain-mse:21.4824\teval-mse:90.5152\n",
      "[31500]\ttrain-mse:21.3593\teval-mse:90.4786\n",
      "[31750]\ttrain-mse:21.2442\teval-mse:90.4562\n",
      "[32000]\ttrain-mse:21.1277\teval-mse:90.4215\n",
      "[32250]\ttrain-mse:21.0173\teval-mse:90.3985\n",
      "[32500]\ttrain-mse:20.9157\teval-mse:90.3691\n",
      "[32750]\ttrain-mse:20.7923\teval-mse:90.3398\n",
      "[33000]\ttrain-mse:20.6783\teval-mse:90.3167\n",
      "[33250]\ttrain-mse:20.5724\teval-mse:90.2899\n",
      "[33500]\ttrain-mse:20.4603\teval-mse:90.264\n",
      "[33750]\ttrain-mse:20.3582\teval-mse:90.2453\n",
      "[34000]\ttrain-mse:20.2554\teval-mse:90.2246\n",
      "[34250]\ttrain-mse:20.1581\teval-mse:90.201\n",
      "[34500]\ttrain-mse:20.059\teval-mse:90.1708\n",
      "[34750]\ttrain-mse:19.9578\teval-mse:90.1384\n",
      "[35000]\ttrain-mse:19.8557\teval-mse:90.1049\n",
      "[35250]\ttrain-mse:19.7562\teval-mse:90.0768\n",
      "[35500]\ttrain-mse:19.6581\teval-mse:90.0633\n",
      "[35750]\ttrain-mse:19.5616\teval-mse:90.0369\n",
      "[36000]\ttrain-mse:19.4641\teval-mse:90.0139\n",
      "[36250]\ttrain-mse:19.3719\teval-mse:89.9913\n",
      "[36500]\ttrain-mse:19.2741\teval-mse:89.963\n",
      "[36750]\ttrain-mse:19.178\teval-mse:89.9407\n",
      "[37000]\ttrain-mse:19.0763\teval-mse:89.909\n",
      "[37250]\ttrain-mse:18.9888\teval-mse:89.8904\n",
      "[37500]\ttrain-mse:18.8972\teval-mse:89.8635\n",
      "[37750]\ttrain-mse:18.8022\teval-mse:89.8515\n",
      "[38000]\ttrain-mse:18.7122\teval-mse:89.8276\n",
      "[38250]\ttrain-mse:18.6229\teval-mse:89.8061\n",
      "[38500]\ttrain-mse:18.5342\teval-mse:89.7874\n",
      "[38750]\ttrain-mse:18.4445\teval-mse:89.7762\n",
      "[39000]\ttrain-mse:18.357\teval-mse:89.7554\n",
      "[39250]\ttrain-mse:18.2742\teval-mse:89.7424\n",
      "[39500]\ttrain-mse:18.1911\teval-mse:89.7258\n",
      "[39750]\ttrain-mse:18.1057\teval-mse:89.7099\n",
      "[40000]\ttrain-mse:18.0245\teval-mse:89.6903\n",
      "[40250]\ttrain-mse:17.9383\teval-mse:89.6679\n",
      "[40500]\ttrain-mse:17.8481\teval-mse:89.6461\n",
      "[40750]\ttrain-mse:17.7658\teval-mse:89.6288\n",
      "[41000]\ttrain-mse:17.682\teval-mse:89.6071\n",
      "[41250]\ttrain-mse:17.6054\teval-mse:89.587\n",
      "[41500]\ttrain-mse:17.523\teval-mse:89.565\n",
      "[41750]\ttrain-mse:17.447\teval-mse:89.5469\n",
      "[42000]\ttrain-mse:17.3645\teval-mse:89.531\n",
      "[42250]\ttrain-mse:17.2845\teval-mse:89.5113\n",
      "[42500]\ttrain-mse:17.2008\teval-mse:89.4974\n",
      "[42750]\ttrain-mse:17.1217\teval-mse:89.4823\n",
      "[43000]\ttrain-mse:17.04\teval-mse:89.4684\n",
      "[43250]\ttrain-mse:16.9596\teval-mse:89.4506\n",
      "Stopping. Best iteration:\n",
      "[43222]\ttrain-mse:16.9665\teval-mse:89.4505\n",
      "\n",
      "XGBOOST best_iteration 43222\n",
      "XGBOOST best_score 89.4505\n"
     ]
    }
   ],
   "source": [
    "# Now generate predictions on whole test set, to be used in ensemble for submissions\n",
    "print(\"DATA : \" + DATA)\n",
    "xg_test = xgb.DMatrix(test.drop([\"ID\"], axis = 1))\n",
    "\n",
    "xg_val, xg = run_xgb(X_train, y_train.TARGET, X_test, y_test.TARGET, train, y.TARGET)\n",
    "preds_test = xg.predict(xg_test) \n"
   ]
  },
  {
   "cell_type": "code",
   "execution_count": 9,
   "metadata": {
    "collapsed": true
   },
   "outputs": [],
   "source": [
    "# Correct predictions for negative outputs\n",
    "preds_test[preds_test < 0] = 0"
   ]
  },
  {
   "cell_type": "code",
   "execution_count": 10,
   "metadata": {
    "collapsed": false
   },
   "outputs": [],
   "source": [
    "# Save test set predictions\n",
    "testID = pd.read_csv(\"clean_data/testID.csv\", header = None)\n",
    "test_name = \"test_preds/XGB_\" + DATA + \".csv\"\n",
    "pd.DataFrame({\"ID\": testID[0], \"TARGET\": preds_test}, columns = [\"ID\", \"TARGET\"]).to_csv(test_name, index = None, sep = \";\")"
   ]
  },
  {
   "cell_type": "code",
   "execution_count": 11,
   "metadata": {
    "collapsed": false
   },
   "outputs": [
    {
     "data": {
      "image/png": "[encoded data removed]",
      "text/plain": [
       "<matplotlib.figure.Figure at 0x23a97eb79e8>"
      ]
     },
     "metadata": {},
     "output_type": "display_data"
    }
   ],
   "source": [
    "# Visualize most important features\n",
    "importance = sorted(xg.get_fscore().items(), key = operator.itemgetter(1))\n",
    "df = pd.DataFrame(importance, columns=[\"feature\", \"fscore\"])\n",
    "g = df.tail(50).plot(kind = \"barh\", x = \"feature\", y = \"fscore\", legend = False, figsize = (6, 10))\n",
    "plt.title(\"xg\")\n",
    "plt.show()"
   ]
  },
  {
   "cell_type": "code",
   "execution_count": null,
   "metadata": {
    "collapsed": true
   },
   "outputs": [],
   "source": []
  }
 ],
 "metadata": {
  "anaconda-cloud": {},
  "kernelspec": {
   "display_name": "Python [Root]",
   "language": "python",
   "name": "Python [Root]"
  },
  "language_info": {
   "codemirror_mode": {
    "name": "ipython",
    "version": 3
   },
   "file_extension": ".py",
   "mimetype": "text/x-python",
   "name": "python",
   "nbconvert_exporter": "python",
   "pygments_lexer": "ipython3",
   "version": "3.5.2"
  }
 },
 "nbformat": 4,
 "nbformat_minor": 0
}
