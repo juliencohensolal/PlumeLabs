{
 "cells": [
  {
   "cell_type": "code",
   "execution_count": 1,
   "metadata": {
    "collapsed": false
   },
   "outputs": [],
   "source": [
    "# Imports\n",
    "import pandas as pd\n",
    "import numpy as np\n",
    "from IPython.display import display\n",
    "import matplotlib.pyplot as plt\n",
    "import seaborn as sns\n",
    "from sklearn.metrics import mean_squared_error\n",
    "from pylightgbm.models import GBMRegressor\n",
    "import os\n",
    "\n",
    "# Definitions\n",
    "pd.set_option('display.float_format', lambda x: '%.3f' % x)\n",
    "%matplotlib inline\n",
    "FOLDS = 4\n",
    "N_JOBS = 6\n",
    "SEED = 2016\n",
    "os.environ[\"LIGHTGBM_EXEC\"] = \"C:/Users/Julien/LightGBM/lightgbm.exe\"\n",
    "\n",
    "#DATA = \"Base\"\n",
    "DATA = \"Time\"\n",
    "#DATA = \"Medians\"\n"
   ]
  },
  {
   "cell_type": "code",
   "execution_count": 2,
   "metadata": {
    "collapsed": false
   },
   "outputs": [],
   "source": [
    "# Get data\n",
    "train = pd.read_csv(\"clean_data/train_\" + DATA + \".csv\")\n",
    "y = pd.read_csv(\"clean_data/y.csv\")\n",
    "\n",
    "X_train = pd.read_csv(\"clean_data/X_train_\" + DATA + \".csv\")\n",
    "y_train = pd.read_csv(\"clean_data/y_train.csv\")\n",
    "\n",
    "X_trainVal = pd.read_csv(\"clean_data/X_trainVal_\" + DATA + \".csv\")\n",
    "y_trainVal = pd.read_csv(\"clean_data/y_trainVal.csv\")\n",
    "\n",
    "test = pd.read_csv(\"clean_data/test_\" + DATA + \".csv\")\n",
    "\n",
    "X_test = pd.read_csv(\"clean_data/X_test_\" + DATA + \".csv\")\n",
    "y_test = pd.read_csv(\"clean_data/y_test.csv\")\n",
    "\n",
    "X_testVal = pd.read_csv(\"clean_data/X_testVal_\" + DATA + \".csv\")\n",
    "y_testVal = pd.read_csv(\"clean_data/y_testVal.csv\")\n"
   ]
  },
  {
   "cell_type": "code",
   "execution_count": 3,
   "metadata": {
    "collapsed": true
   },
   "outputs": [],
   "source": [
    "# Definitions for LightGBM\n",
    "\n",
    "def lgbm_mse(preds, dtrain) :\n",
    "    labels = dtrain.get_label()\n",
    "    return (\"mse\", mean_squared_error(preds, labels))\n",
    "\n",
    "def run_lgbm(X_trainVal, y_trainVal, X_testVal, y_testVal, X_train, y_train) :\n",
    "    # Train model\n",
    "    lg = GBMRegressor(\n",
    "        config = \"\",\n",
    "        tree_learner = \"serial\", \n",
    "        application = \"regression\", \n",
    "        num_threads = N_JOBS,\n",
    "        metric = \"l2\",\n",
    "        learning_rate = 0.01,\n",
    "        num_iterations = 20000,\n",
    "        early_stopping_round = 100, \n",
    "        num_leaves = 500,\n",
    "        min_data_in_leaf = 5,\n",
    "        feature_fraction = 1,\n",
    "        feature_fraction_seed = SEED,\n",
    "        bagging_fraction = 1,\n",
    "        bagging_freq = 100,\n",
    "        bagging_seed = SEED,\n",
    "        max_bin = 500,\n",
    "        max_depth = 30,\n",
    "        verbose = False\n",
    "    )\n",
    "    lg.fit(X_trainVal, y_trainVal, test_data = [(X_testVal, y_testVal)])\n",
    "    \n",
    "    print(\"LIGHTGBM best_round : \" + str(lg.best_round))\n",
    "    \n",
    "    lg = GBMRegressor(\n",
    "        config = \"\",\n",
    "        tree_learner = \"serial\", \n",
    "        application = \"regression\", \n",
    "        num_threads = N_JOBS,\n",
    "        metric = \"l2\",\n",
    "        learning_rate = 0.01,\n",
    "        num_iterations = int(lg.best_round / 0.67),\n",
    "        num_leaves = 500,\n",
    "        min_data_in_leaf = 5,\n",
    "        feature_fraction = 1,\n",
    "        feature_fraction_seed = SEED,\n",
    "        bagging_fraction = 1,\n",
    "        bagging_freq = 100,\n",
    "        bagging_seed = SEED,\n",
    "        max_bin = 500,\n",
    "        max_depth = 30,\n",
    "        verbose = False\n",
    "    )\n",
    "    lg.fit(X_train, y_train)\n",
    "\n",
    "    return (lg)"
   ]
  },
  {
   "cell_type": "code",
   "execution_count": 4,
   "metadata": {
    "collapsed": false
   },
   "outputs": [
    {
     "name": "stdout",
     "output_type": "stream",
     "text": [
      "LIGHTGBM best_round : 284\n"
     ]
    }
   ],
   "source": [
    "# Generate y_test predictions to be able to optimize ensemble weights\n",
    "lg = run_lgbm(X_trainVal, y_trainVal.TARGET, X_testVal, y_testVal.TARGET, X_train, y_train.TARGET)\n",
    "preds_y_test = lg.predict(X_test) "
   ]
  },
  {
   "cell_type": "code",
   "execution_count": 5,
   "metadata": {
    "collapsed": false
   },
   "outputs": [
    {
     "name": "stdout",
     "output_type": "stream",
     "text": [
      "Average LGBM MSE on held-out fold : 110.296867735\n"
     ]
    }
   ],
   "source": [
    "# Show MSE on y_test\n",
    "print(\"Average LGBM MSE on held-out fold : \" + str(mean_squared_error(y_test.TARGET, preds_y_test)))\n"
   ]
  },
  {
   "cell_type": "code",
   "execution_count": 6,
   "metadata": {
    "collapsed": false
   },
   "outputs": [
    {
     "data": {
      "image/png": "[encoded data removed]",
      "text/plain": [
       "<matplotlib.figure.Figure at 0x295203f3940>"
      ]
     },
     "metadata": {},
     "output_type": "display_data"
    },
    {
     "data": {
      "text/plain": [
       "()"
      ]
     },
     "execution_count": 6,
     "metadata": {},
     "output_type": "execute_result"
    }
   ],
   "source": [
    "# Plot predictions\n",
    "def plotPreds(preds, reals, xlbl, ylbl, dim) :\n",
    "    plt.scatter(preds, reals, c = \"lightgreen\", marker = \"s\", label = \"\")\n",
    "    plt.xlabel(xlbl)\n",
    "    plt.ylabel(ylbl)\n",
    "    plt.plot([0, dim], [0, dim], c = \"red\")\n",
    "    plt.show()\n",
    "    return()\n",
    "\n",
    "plotPreds(preds_y_test, y_test.TARGET, \"preds_y_test\", \"y_test\", 125)\n"
   ]
  },
  {
   "cell_type": "code",
   "execution_count": 7,
   "metadata": {
    "collapsed": true
   },
   "outputs": [],
   "source": [
    "# Save held-out fold predictions\n",
    "y_test_name = \"y_test_preds/LGBM_\" + DATA + \".csv\"\n",
    "pd.DataFrame({\"TARGET\": preds_y_test}).to_csv(y_test_name, index = None, sep = \";\")\n"
   ]
  },
  {
   "cell_type": "code",
   "execution_count": 8,
   "metadata": {
    "collapsed": false
   },
   "outputs": [
    {
     "name": "stdout",
     "output_type": "stream",
     "text": [
      "DATA : Time\n",
      "LIGHTGBM best_round : 12140\n"
     ]
    }
   ],
   "source": [
    "# Now generate predictions on whole test set, to be used in ensemble for submissions\n",
    "print(\"DATA : \" + DATA)\n",
    "lg = run_lgbm(X_train, y_train.TARGET, X_test, y_test.TARGET, train, y.TARGET)\n",
    "preds_test = lg.predict(test.drop([\"ID\"], axis = 1)) \n"
   ]
  },
  {
   "cell_type": "code",
   "execution_count": 9,
   "metadata": {
    "collapsed": false
   },
   "outputs": [],
   "source": [
    "# Correct predictions for negative outputs\n",
    "preds_test[preds_test < 0] = 0"
   ]
  },
  {
   "cell_type": "code",
   "execution_count": 10,
   "metadata": {
    "collapsed": true
   },
   "outputs": [],
   "source": [
    "# Save test set predictions\n",
    "testID = pd.read_csv(\"clean_data/testID.csv\", header = None)\n",
    "test_name = \"test_preds/LGBM_\" + DATA + \".csv\"\n",
    "pd.DataFrame({\"ID\": testID[0], \"TARGET\": preds_test}, columns = [\"ID\", \"TARGET\"]).to_csv(test_name, index = None, sep = \";\")"
   ]
  },
  {
   "cell_type": "code",
   "execution_count": null,
   "metadata": {
    "collapsed": true
   },
   "outputs": [],
   "source": []
  }
 ],
 "metadata": {
  "anaconda-cloud": {},
  "kernelspec": {
   "display_name": "Python [Root]",
   "language": "python",
   "name": "Python [Root]"
  },
  "language_info": {
   "codemirror_mode": {
    "name": "ipython",
    "version": 3
   },
   "file_extension": ".py",
   "mimetype": "text/x-python",
   "name": "python",
   "nbconvert_exporter": "python",
   "pygments_lexer": "ipython3",
   "version": "3.5.2"
  }
 },
 "nbformat": 4,
 "nbformat_minor": 0
}
