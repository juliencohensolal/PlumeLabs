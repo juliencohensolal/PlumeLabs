{
 "cells": [
  {
   "cell_type": "code",
   "execution_count": 1,
   "metadata": {
    "collapsed": true
   },
   "outputs": [],
   "source": [
    "# Imports\n",
    "import os\n",
    "import pandas as pd\n",
    "import numpy as np\n",
    "from IPython.display import display\n",
    "import matplotlib.pyplot as plt\n",
    "import seaborn as sns\n",
    "\n",
    "# Definitions\n",
    "pd.set_option('display.float_format', lambda x: '%.3f' % x)\n",
    "%matplotlib inline\n",
    "N_JOBS = 6\n",
    "SEED = 2016\n",
    "\n",
    "DATA = \"Super\""
   ]
  },
  {
   "cell_type": "code",
   "execution_count": 2,
   "metadata": {
    "collapsed": false
   },
   "outputs": [
    {
     "name": "stdout",
     "output_type": "stream",
     "text": [
      "train : (448169, 33)\n",
      "test : (300891, 33)\n",
      "y : (448169, 2)\n",
      "Categorical features : 1\n",
      "Numerical features : 32\n"
     ]
    }
   ],
   "source": [
    "# Get data\n",
    "train = pd.read_csv(\"raw_data/X_train.csv\")\n",
    "test = pd.read_csv(\"raw_data/X_test.csv\")\n",
    "y = pd.read_csv(\"raw_data/y.csv\")\n",
    "print(\"train : \" + str(train.shape))\n",
    "print(\"test : \" + str(test.shape))\n",
    "print(\"y : \" + str(y.shape))\n",
    "\n",
    "# Change columns order for ease of use\n",
    "alldata = pd.concat([train, test], axis = 0)\n",
    "alldata = pd.concat([alldata.ID, alldata.daytime, alldata.is_calmday, alldata.zone_id, alldata.station_id, alldata.pollutant, \n",
    "                     alldata.temperature, alldata.pressure, alldata.cloudcover, alldata.precipintensity, \n",
    "                     alldata.precipprobability, alldata.windspeed, alldata.windbearingcos, alldata.windbearingsin, \n",
    "                     alldata.roadinvdist, alldata.hlres_50, alldata.hlres_100, alldata.hlres_300, alldata.hlres_500, \n",
    "                     alldata.hlres_1000, alldata.hldres_50, alldata.hldres_100, alldata.hldres_300, alldata.hldres_500, \n",
    "                     alldata.hldres_1000, alldata.route_100, alldata.route_300, alldata.route_500, alldata.route_1000, \n",
    "                     alldata.industry_1000, alldata.port_5000, alldata.green_5000, alldata.natural_5000], axis = 1)\n",
    "\n",
    "# Differentiate numerical features (minus the target) and categorical features\n",
    "cat_features = alldata.select_dtypes(include = [\"object\"]).columns\n",
    "print(\"Categorical features : \" + str(len(cat_features)))\n",
    "num_features = alldata.select_dtypes(exclude = [\"object\"]).columns\n",
    "print(\"Numerical features : \" + str(len(num_features)))"
   ]
  },
  {
   "cell_type": "code",
   "execution_count": 3,
   "metadata": {
    "collapsed": false
   },
   "outputs": [
    {
     "name": "stdout",
     "output_type": "stream",
     "text": [
      "NAs : 5831954\n",
      "ID                        0\n",
      "daytime                   0\n",
      "is_calmday                0\n",
      "zone_id                   0\n",
      "station_id                0\n",
      "pollutant                 0\n",
      "temperature               0\n",
      "pressure                  0\n",
      "cloudcover                0\n",
      "precipintensity           0\n",
      "precipprobability         0\n",
      "windspeed                 0\n",
      "windbearingcos            0\n",
      "windbearingsin            0\n",
      "roadinvdist               0\n",
      "hlres_50             630452\n",
      "hlres_100            514029\n",
      "hlres_300            514029\n",
      "hlres_500            514029\n",
      "hlres_1000           141020\n",
      "hldres_50            365300\n",
      "hldres_100           248877\n",
      "hldres_300           248877\n",
      "hldres_500           248877\n",
      "hldres_1000               0\n",
      "route_100            622492\n",
      "route_300            381937\n",
      "route_500            141020\n",
      "route_1000                0\n",
      "industry_1000        506069\n",
      "port_5000            386196\n",
      "green_5000           122309\n",
      "natural_5000         246441\n",
      "dtype: int64\n",
      "After NA imputing, remaining NAs : 0\n",
      "(749060, 33)\n"
     ]
    }
   ],
   "source": [
    "# Imputing NAs\n",
    "print(\"NAs : \" + str(alldata.isnull().values.sum()))\n",
    "print(alldata.isnull().sum())\n",
    "alldata.loc[:, \"hlres_50\"] = alldata.loc[:, \"hlres_50\"].fillna(0)\n",
    "alldata.loc[:, \"hlres_100\"] = alldata.loc[:, \"hlres_100\"].fillna(0)\n",
    "alldata.loc[:, \"hlres_300\"] = alldata.loc[:, \"hlres_300\"].fillna(0)\n",
    "alldata.loc[:, \"hlres_500\"] = alldata.loc[:, \"hlres_500\"].fillna(0)\n",
    "alldata.loc[:, \"hlres_1000\"] = alldata.loc[:, \"hlres_1000\"].fillna(0)\n",
    "alldata.loc[:, \"hldres_50\"] = alldata.loc[:, \"hldres_50\"].fillna(0)\n",
    "alldata.loc[:, \"hldres_100\"] = alldata.loc[:, \"hldres_100\"].fillna(0)\n",
    "alldata.loc[:, \"hldres_300\"] = alldata.loc[:, \"hldres_300\"].fillna(0)\n",
    "alldata.loc[:, \"hldres_500\"] = alldata.loc[:, \"hldres_500\"].fillna(0)\n",
    "alldata.loc[:, \"hldres_1000\"] = alldata.loc[:, \"hldres_1000\"].fillna(0)\n",
    "alldata.loc[:, \"route_100\"] = alldata.loc[:, \"route_100\"].fillna(0)\n",
    "alldata.loc[:, \"route_300\"] = alldata.loc[:, \"route_300\"].fillna(0)\n",
    "alldata.loc[:, \"route_500\"] = alldata.loc[:, \"route_500\"].fillna(0)\n",
    "alldata.loc[:, \"route_1000\"] = alldata.loc[:, \"route_1000\"].fillna(0)\n",
    "alldata.loc[:, \"industry_1000\"] = alldata.loc[:, \"industry_1000\"].fillna(0)\n",
    "alldata.loc[:, \"port_5000\"] = alldata.loc[:, \"port_5000\"].fillna(0)\n",
    "alldata.loc[:, \"natural_5000\"] = alldata.loc[:, \"natural_5000\"].fillna(0)\n",
    "alldata.loc[:, \"green_5000\"] = alldata.loc[:, \"green_5000\"].fillna(0)\n",
    "\n",
    "print(\"After NA imputing, remaining NAs : \" + str(alldata.isnull().values.sum()))\n",
    "print(alldata.shape)"
   ]
  },
  {
   "cell_type": "code",
   "execution_count": 9,
   "metadata": {
    "collapsed": false
   },
   "outputs": [],
   "source": [
    "# Create time features\n",
    "alldata[\"hour\"] = (alldata[\"daytime\"] + 1) % 24\n",
    "\n",
    "alldata[\"dayOfYear\"] = (alldata[\"daytime\"] / 24) + 1\n",
    "alldata.dayOfYear = alldata.dayOfYear.apply(int)\n",
    "\n",
    "alldata[\"dayOfMonth\"] = ((alldata[\"daytime\"] / 24) + 1)  % 24\n",
    "alldata.dayOfMonth = alldata.dayOfMonth.apply(int)\n",
    "\n",
    "alldata[\"dayOfWeek\"] = ((alldata[\"daytime\"] / 24) + 1)  % 7\n",
    "alldata.dayOfWeek = alldata.dayOfWeek.apply(int)\n",
    "\n",
    "alldata[\"week\"] = (alldata[\"daytime\"] / (24 * 7)) + 1\n",
    "alldata.week = alldata.week.apply(int)\n",
    "\n",
    "alldata[\"month\"] = (alldata[\"daytime\"] / (24 * 7 * 4.5)) + 1\n",
    "alldata.month = alldata.month.apply(int)"
   ]
  },
  {
   "cell_type": "code",
   "execution_count": 11,
   "metadata": {
    "collapsed": false
   },
   "outputs": [
    {
     "data": {
      "text/html": [
       "<div>\n",
       "<table border=\"1\" class=\"dataframe\">\n",
       "  <thead>\n",
       "    <tr style=\"text-align: right;\">\n",
       "      <th></th>\n",
       "      <th>ID</th>\n",
       "      <th>daytime</th>\n",
       "      <th>is_calmday</th>\n",
       "      <th>zone_id</th>\n",
       "      <th>station_id</th>\n",
       "      <th>pollutant</th>\n",
       "      <th>temperature</th>\n",
       "      <th>pressure</th>\n",
       "      <th>cloudcover</th>\n",
       "      <th>precipintensity</th>\n",
       "      <th>...</th>\n",
       "      <th>industry_1000</th>\n",
       "      <th>port_5000</th>\n",
       "      <th>green_5000</th>\n",
       "      <th>natural_5000</th>\n",
       "      <th>hour</th>\n",
       "      <th>dayOfYear</th>\n",
       "      <th>dayOfMonth</th>\n",
       "      <th>dayOfWeek</th>\n",
       "      <th>week</th>\n",
       "      <th>month</th>\n",
       "    </tr>\n",
       "  </thead>\n",
       "  <tbody>\n",
       "    <tr>\n",
       "      <th>0</th>\n",
       "      <td>0</td>\n",
       "      <td>72.000</td>\n",
       "      <td>False</td>\n",
       "      <td>0.000</td>\n",
       "      <td>16.000</td>\n",
       "      <td>NO2</td>\n",
       "      <td>9.490</td>\n",
       "      <td>1029.350</td>\n",
       "      <td>1.000</td>\n",
       "      <td>0.610</td>\n",
       "      <td>...</td>\n",
       "      <td>0.000</td>\n",
       "      <td>0.000</td>\n",
       "      <td>5172542.500</td>\n",
       "      <td>5172542.500</td>\n",
       "      <td>1.000</td>\n",
       "      <td>4</td>\n",
       "      <td>4</td>\n",
       "      <td>4</td>\n",
       "      <td>1</td>\n",
       "      <td>1</td>\n",
       "    </tr>\n",
       "    <tr>\n",
       "      <th>1</th>\n",
       "      <td>1</td>\n",
       "      <td>72.000</td>\n",
       "      <td>False</td>\n",
       "      <td>0.000</td>\n",
       "      <td>16.000</td>\n",
       "      <td>PM10</td>\n",
       "      <td>9.490</td>\n",
       "      <td>1029.350</td>\n",
       "      <td>1.000</td>\n",
       "      <td>0.610</td>\n",
       "      <td>...</td>\n",
       "      <td>0.000</td>\n",
       "      <td>0.000</td>\n",
       "      <td>5172542.500</td>\n",
       "      <td>5172542.500</td>\n",
       "      <td>1.000</td>\n",
       "      <td>4</td>\n",
       "      <td>4</td>\n",
       "      <td>4</td>\n",
       "      <td>1</td>\n",
       "      <td>1</td>\n",
       "    </tr>\n",
       "    <tr>\n",
       "      <th>2</th>\n",
       "      <td>2</td>\n",
       "      <td>73.000</td>\n",
       "      <td>False</td>\n",
       "      <td>0.000</td>\n",
       "      <td>16.000</td>\n",
       "      <td>NO2</td>\n",
       "      <td>8.220</td>\n",
       "      <td>1029.560</td>\n",
       "      <td>1.000</td>\n",
       "      <td>0.097</td>\n",
       "      <td>...</td>\n",
       "      <td>0.000</td>\n",
       "      <td>0.000</td>\n",
       "      <td>5172542.500</td>\n",
       "      <td>5172542.500</td>\n",
       "      <td>2.000</td>\n",
       "      <td>4</td>\n",
       "      <td>4</td>\n",
       "      <td>4</td>\n",
       "      <td>1</td>\n",
       "      <td>1</td>\n",
       "    </tr>\n",
       "    <tr>\n",
       "      <th>3</th>\n",
       "      <td>3</td>\n",
       "      <td>73.000</td>\n",
       "      <td>False</td>\n",
       "      <td>0.000</td>\n",
       "      <td>16.000</td>\n",
       "      <td>PM10</td>\n",
       "      <td>8.220</td>\n",
       "      <td>1029.560</td>\n",
       "      <td>1.000</td>\n",
       "      <td>0.097</td>\n",
       "      <td>...</td>\n",
       "      <td>0.000</td>\n",
       "      <td>0.000</td>\n",
       "      <td>5172542.500</td>\n",
       "      <td>5172542.500</td>\n",
       "      <td>2.000</td>\n",
       "      <td>4</td>\n",
       "      <td>4</td>\n",
       "      <td>4</td>\n",
       "      <td>1</td>\n",
       "      <td>1</td>\n",
       "    </tr>\n",
       "    <tr>\n",
       "      <th>4</th>\n",
       "      <td>4</td>\n",
       "      <td>74.000</td>\n",
       "      <td>False</td>\n",
       "      <td>0.000</td>\n",
       "      <td>16.000</td>\n",
       "      <td>NO2</td>\n",
       "      <td>7.580</td>\n",
       "      <td>1029.660</td>\n",
       "      <td>0.970</td>\n",
       "      <td>0.000</td>\n",
       "      <td>...</td>\n",
       "      <td>0.000</td>\n",
       "      <td>0.000</td>\n",
       "      <td>5172542.500</td>\n",
       "      <td>5172542.500</td>\n",
       "      <td>3.000</td>\n",
       "      <td>4</td>\n",
       "      <td>4</td>\n",
       "      <td>4</td>\n",
       "      <td>1</td>\n",
       "      <td>1</td>\n",
       "    </tr>\n",
       "  </tbody>\n",
       "</table>\n",
       "<p>5 rows × 39 columns</p>\n",
       "</div>"
      ],
      "text/plain": [
       "   ID  daytime is_calmday  zone_id  station_id pollutant  temperature  \\\n",
       "0   0   72.000      False    0.000      16.000       NO2        9.490   \n",
       "1   1   72.000      False    0.000      16.000      PM10        9.490   \n",
       "2   2   73.000      False    0.000      16.000       NO2        8.220   \n",
       "3   3   73.000      False    0.000      16.000      PM10        8.220   \n",
       "4   4   74.000      False    0.000      16.000       NO2        7.580   \n",
       "\n",
       "   pressure  cloudcover  precipintensity  ...    industry_1000  port_5000  \\\n",
       "0  1029.350       1.000            0.610  ...            0.000      0.000   \n",
       "1  1029.350       1.000            0.610  ...            0.000      0.000   \n",
       "2  1029.560       1.000            0.097  ...            0.000      0.000   \n",
       "3  1029.560       1.000            0.097  ...            0.000      0.000   \n",
       "4  1029.660       0.970            0.000  ...            0.000      0.000   \n",
       "\n",
       "   green_5000  natural_5000  hour  dayOfYear  dayOfMonth  dayOfWeek  week  \\\n",
       "0 5172542.500   5172542.500 1.000          4           4          4     1   \n",
       "1 5172542.500   5172542.500 1.000          4           4          4     1   \n",
       "2 5172542.500   5172542.500 2.000          4           4          4     1   \n",
       "3 5172542.500   5172542.500 2.000          4           4          4     1   \n",
       "4 5172542.500   5172542.500 3.000          4           4          4     1   \n",
       "\n",
       "   month  \n",
       "0      1  \n",
       "1      1  \n",
       "2      1  \n",
       "3      1  \n",
       "4      1  \n",
       "\n",
       "[5 rows x 39 columns]"
      ]
     },
     "metadata": {},
     "output_type": "display_data"
    },
    {
     "data": {
      "text/html": [
       "<div>\n",
       "<table border=\"1\" class=\"dataframe\">\n",
       "  <thead>\n",
       "    <tr style=\"text-align: right;\">\n",
       "      <th></th>\n",
       "      <th>ID</th>\n",
       "      <th>daytime</th>\n",
       "      <th>is_calmday</th>\n",
       "      <th>zone_id</th>\n",
       "      <th>station_id</th>\n",
       "      <th>pollutant</th>\n",
       "      <th>temperature</th>\n",
       "      <th>pressure</th>\n",
       "      <th>cloudcover</th>\n",
       "      <th>precipintensity</th>\n",
       "      <th>...</th>\n",
       "      <th>industry_1000</th>\n",
       "      <th>port_5000</th>\n",
       "      <th>green_5000</th>\n",
       "      <th>natural_5000</th>\n",
       "      <th>hour</th>\n",
       "      <th>dayOfYear</th>\n",
       "      <th>dayOfMonth</th>\n",
       "      <th>dayOfWeek</th>\n",
       "      <th>week</th>\n",
       "      <th>month</th>\n",
       "    </tr>\n",
       "  </thead>\n",
       "  <tbody>\n",
       "    <tr>\n",
       "      <th>300886</th>\n",
       "      <td>749055</td>\n",
       "      <td>14251.000</td>\n",
       "      <td>False</td>\n",
       "      <td>5.000</td>\n",
       "      <td>19.000</td>\n",
       "      <td>PM10</td>\n",
       "      <td>16.900</td>\n",
       "      <td>1016.150</td>\n",
       "      <td>0.000</td>\n",
       "      <td>0.000</td>\n",
       "      <td>...</td>\n",
       "      <td>0.000</td>\n",
       "      <td>10633674.000</td>\n",
       "      <td>0.000</td>\n",
       "      <td>0.000</td>\n",
       "      <td>20.000</td>\n",
       "      <td>594</td>\n",
       "      <td>18</td>\n",
       "      <td>6</td>\n",
       "      <td>85</td>\n",
       "      <td>19</td>\n",
       "    </tr>\n",
       "    <tr>\n",
       "      <th>300887</th>\n",
       "      <td>749056</td>\n",
       "      <td>14252.000</td>\n",
       "      <td>False</td>\n",
       "      <td>5.000</td>\n",
       "      <td>19.000</td>\n",
       "      <td>PM10</td>\n",
       "      <td>16.330</td>\n",
       "      <td>1016.640</td>\n",
       "      <td>0.000</td>\n",
       "      <td>0.000</td>\n",
       "      <td>...</td>\n",
       "      <td>0.000</td>\n",
       "      <td>10633674.000</td>\n",
       "      <td>0.000</td>\n",
       "      <td>0.000</td>\n",
       "      <td>21.000</td>\n",
       "      <td>594</td>\n",
       "      <td>18</td>\n",
       "      <td>6</td>\n",
       "      <td>85</td>\n",
       "      <td>19</td>\n",
       "    </tr>\n",
       "    <tr>\n",
       "      <th>300888</th>\n",
       "      <td>749057</td>\n",
       "      <td>14253.000</td>\n",
       "      <td>False</td>\n",
       "      <td>5.000</td>\n",
       "      <td>19.000</td>\n",
       "      <td>PM10</td>\n",
       "      <td>15.770</td>\n",
       "      <td>1016.920</td>\n",
       "      <td>0.000</td>\n",
       "      <td>0.000</td>\n",
       "      <td>...</td>\n",
       "      <td>0.000</td>\n",
       "      <td>10633674.000</td>\n",
       "      <td>0.000</td>\n",
       "      <td>0.000</td>\n",
       "      <td>22.000</td>\n",
       "      <td>594</td>\n",
       "      <td>18</td>\n",
       "      <td>6</td>\n",
       "      <td>85</td>\n",
       "      <td>19</td>\n",
       "    </tr>\n",
       "    <tr>\n",
       "      <th>300889</th>\n",
       "      <td>749058</td>\n",
       "      <td>14254.000</td>\n",
       "      <td>False</td>\n",
       "      <td>5.000</td>\n",
       "      <td>19.000</td>\n",
       "      <td>PM10</td>\n",
       "      <td>15.330</td>\n",
       "      <td>1016.980</td>\n",
       "      <td>0.000</td>\n",
       "      <td>0.000</td>\n",
       "      <td>...</td>\n",
       "      <td>0.000</td>\n",
       "      <td>10633674.000</td>\n",
       "      <td>0.000</td>\n",
       "      <td>0.000</td>\n",
       "      <td>23.000</td>\n",
       "      <td>594</td>\n",
       "      <td>18</td>\n",
       "      <td>6</td>\n",
       "      <td>85</td>\n",
       "      <td>19</td>\n",
       "    </tr>\n",
       "    <tr>\n",
       "      <th>300890</th>\n",
       "      <td>749059</td>\n",
       "      <td>14255.000</td>\n",
       "      <td>False</td>\n",
       "      <td>5.000</td>\n",
       "      <td>19.000</td>\n",
       "      <td>PM10</td>\n",
       "      <td>14.810</td>\n",
       "      <td>1017.090</td>\n",
       "      <td>0.000</td>\n",
       "      <td>0.000</td>\n",
       "      <td>...</td>\n",
       "      <td>0.000</td>\n",
       "      <td>10633674.000</td>\n",
       "      <td>0.000</td>\n",
       "      <td>0.000</td>\n",
       "      <td>0.000</td>\n",
       "      <td>594</td>\n",
       "      <td>18</td>\n",
       "      <td>6</td>\n",
       "      <td>85</td>\n",
       "      <td>19</td>\n",
       "    </tr>\n",
       "  </tbody>\n",
       "</table>\n",
       "<p>5 rows × 39 columns</p>\n",
       "</div>"
      ],
      "text/plain": [
       "            ID   daytime is_calmday  zone_id  station_id pollutant  \\\n",
       "300886  749055 14251.000      False    5.000      19.000      PM10   \n",
       "300887  749056 14252.000      False    5.000      19.000      PM10   \n",
       "300888  749057 14253.000      False    5.000      19.000      PM10   \n",
       "300889  749058 14254.000      False    5.000      19.000      PM10   \n",
       "300890  749059 14255.000      False    5.000      19.000      PM10   \n",
       "\n",
       "        temperature  pressure  cloudcover  precipintensity  ...    \\\n",
       "300886       16.900  1016.150       0.000            0.000  ...     \n",
       "300887       16.330  1016.640       0.000            0.000  ...     \n",
       "300888       15.770  1016.920       0.000            0.000  ...     \n",
       "300889       15.330  1016.980       0.000            0.000  ...     \n",
       "300890       14.810  1017.090       0.000            0.000  ...     \n",
       "\n",
       "        industry_1000    port_5000  green_5000  natural_5000   hour  \\\n",
       "300886          0.000 10633674.000       0.000         0.000 20.000   \n",
       "300887          0.000 10633674.000       0.000         0.000 21.000   \n",
       "300888          0.000 10633674.000       0.000         0.000 22.000   \n",
       "300889          0.000 10633674.000       0.000         0.000 23.000   \n",
       "300890          0.000 10633674.000       0.000         0.000  0.000   \n",
       "\n",
       "        dayOfYear  dayOfMonth  dayOfWeek  week  month  \n",
       "300886        594          18          6    85     19  \n",
       "300887        594          18          6    85     19  \n",
       "300888        594          18          6    85     19  \n",
       "300889        594          18          6    85     19  \n",
       "300890        594          18          6    85     19  \n",
       "\n",
       "[5 rows x 39 columns]"
      ]
     },
     "metadata": {},
     "output_type": "display_data"
    }
   ],
   "source": [
    "display(alldata.head())\n",
    "display(alldata.tail())"
   ]
  },
  {
   "cell_type": "code",
   "execution_count": 12,
   "metadata": {
    "collapsed": true
   },
   "outputs": [],
   "source": [
    "# Create season feature\n",
    "alldata[\"season\"] = alldata.daytime.copy()\n",
    "alldata.loc[(alldata[\"daytime\"] <= 920) | ((alldata[\"daytime\"] > 7400) & (alldata[\"daytime\"] <= 9560)), \"season\"] = 1 # winter\n",
    "alldata.loc[((alldata[\"daytime\"] > 920) & (alldata[\"daytime\"] <= 3080)) | ((alldata[\"daytime\"] > 9560) & (alldata[\"daytime\"] <= 11720)), \"season\"] = 2 # spring\n",
    "alldata.loc[((alldata[\"daytime\"] > 3080) & (alldata[\"daytime\"] <= 5240)) | ((alldata[\"daytime\"] > 11720) & (alldata[\"daytime\"] <= 13880)), \"season\"] = 3 # summer\n",
    "alldata.loc[((alldata[\"daytime\"] > 5240) & (alldata[\"daytime\"] <= 7400)) | (alldata[\"daytime\"] > 13880), \"season\"] = 4 # autumn\n",
    "\n",
    "train = alldata.iloc[:train.shape[0], :]\n",
    "test = alldata.iloc[train.shape[0]: , :]"
   ]
  },
  {
   "cell_type": "code",
   "execution_count": 14,
   "metadata": {
    "collapsed": false,
    "scrolled": false
   },
   "outputs": [
    {
     "name": "stdout",
     "output_type": "stream",
     "text": [
      "[ 16.  17.  20.]\n"
     ]
    },
    {
     "data": {
      "image/png": "[encoded data removed]",
      "text/plain": [
       "<matplotlib.figure.Figure at 0x270ce2e2048>"
      ]
     },
     "metadata": {},
     "output_type": "display_data"
    },
    {
     "name": "stdout",
     "output_type": "stream",
     "text": [
      "[ 21.  27.]\n"
     ]
    },
    {
     "data": {
      "image/png": "[encoded data removed]",
      "text/plain": [
       "<matplotlib.figure.Figure at 0x270806e0be0>"
      ]
     },
     "metadata": {},
     "output_type": "display_data"
    },
    {
     "name": "stdout",
     "output_type": "stream",
     "text": [
      "[  1.  18.  22.]\n"
     ]
    },
    {
     "data": {
      "image/png": "[encoded data removed]",
      "text/plain": [
       "<matplotlib.figure.Figure at 0x27080740080>"
      ]
     },
     "metadata": {},
     "output_type": "display_data"
    },
    {
     "name": "stdout",
     "output_type": "stream",
     "text": [
      "[  1.  29.]\n"
     ]
    },
    {
     "data": {
      "image/png": "[encoded data removed]",
      "text/plain": [
       "<matplotlib.figure.Figure at 0x270814004a8>"
      ]
     },
     "metadata": {},
     "output_type": "display_data"
    },
    {
     "name": "stdout",
     "output_type": "stream",
     "text": [
      "[ 26.  28.]\n"
     ]
    },
    {
     "data": {
      "image/png": "[encoded data removed]",
      "text/plain": [
       "<matplotlib.figure.Figure at 0x270806a7a20>"
      ]
     },
     "metadata": {},
     "output_type": "display_data"
    },
    {
     "name": "stdout",
     "output_type": "stream",
     "text": [
      "[ 15.]\n"
     ]
    },
    {
     "data": {
      "image/png": "[encoded data removed]",
      "text/plain": [
       "<matplotlib.figure.Figure at 0x2708138f240>"
      ]
     },
     "metadata": {},
     "output_type": "display_data"
    },
    {
     "name": "stdout",
     "output_type": "stream",
     "text": [
      "[  6.   9.  25.]\n"
     ]
    },
    {
     "data": {
      "image/png": "[encoded data removed]",
      "text/plain": [
       "<matplotlib.figure.Figure at 0x270daaddd68>"
      ]
     },
     "metadata": {},
     "output_type": "display_data"
    },
    {
     "name": "stdout",
     "output_type": "stream",
     "text": [
      "[ 12.  14.]\n"
     ]
    },
    {
     "data": {
      "image/png": "[encoded data removed]",
      "text/plain": [
       "<matplotlib.figure.Figure at 0x270814a1f60>"
      ]
     },
     "metadata": {},
     "output_type": "display_data"
    },
    {
     "name": "stdout",
     "output_type": "stream",
     "text": [
      "[  4.  10.  23.]\n"
     ]
    },
    {
     "data": {
      "image/png": "[encoded data removed]",
      "text/plain": [
       "<matplotlib.figure.Figure at 0x270814feb00>"
      ]
     },
     "metadata": {},
     "output_type": "display_data"
    },
    {
     "name": "stdout",
     "output_type": "stream",
     "text": [
      "[ 0.  3.]\n"
     ]
    },
    {
     "data": {
      "image/png": "[encoded data removed]",
      "text/plain": [
       "<matplotlib.figure.Figure at 0x27080009588>"
      ]
     },
     "metadata": {},
     "output_type": "display_data"
    },
    {
     "name": "stdout",
     "output_type": "stream",
     "text": [
      "[  5.   8.  11.]\n"
     ]
    },
    {
     "data": {
      "image/png": "[encoded data removed]",
      "text/plain": [
       "<matplotlib.figure.Figure at 0x270800873c8>"
      ]
     },
     "metadata": {},
     "output_type": "display_data"
    },
    {
     "name": "stdout",
     "output_type": "stream",
     "text": [
      "[  2.  13.  19.]\n"
     ]
    },
    {
     "data": {
      "image/png": "[encoded data removed]",
      "text/plain": [
       "<matplotlib.figure.Figure at 0x27080093b38>"
      ]
     },
     "metadata": {},
     "output_type": "display_data"
    }
   ],
   "source": [
    "# Look at distributions of stations across train and test sets\n",
    "print(np.unique(train.loc[train.zone_id == 0].station_id))\n",
    "sns.lmplot(x = \"ID\", y = \"station_id\", data = train.loc[train.zone_id == 0], hue = \"pollutant\", fit_reg = False, scatter_kws={\"s\" : 5}, size = 4)\n",
    "plt.title(\"Train - zone 0\")\n",
    "plt.show()\n",
    "print(np.unique(test.loc[test.zone_id == 0].station_id))\n",
    "sns.lmplot(x = \"ID\", y = \"station_id\", data = test.loc[test.zone_id == 0], hue = \"pollutant\", fit_reg = False, scatter_kws={\"s\" : 5}, size = 4)\n",
    "plt.title(\"Test - zone 0\")\n",
    "plt.show()\n",
    "print(np.unique(train.loc[train.zone_id == 1].station_id))\n",
    "sns.lmplot(x = \"ID\", y = \"station_id\", data = train.loc[train.zone_id == 1], hue = \"pollutant\", fit_reg = False, scatter_kws={\"s\" : 5}, size = 4)\n",
    "plt.title(\"Train - zone 1\")\n",
    "plt.show()\n",
    "print(np.unique(test.loc[test.zone_id == 1].station_id))\n",
    "sns.lmplot(x = \"ID\", y = \"station_id\", data = test.loc[test.zone_id == 1], hue = \"pollutant\", fit_reg = False, scatter_kws={\"s\" : 5}, size = 4)\n",
    "plt.title(\"Test - zone 1\")\n",
    "plt.show()\n",
    "print(np.unique(train.loc[train.zone_id == 2].station_id))\n",
    "sns.lmplot(x = \"ID\", y = \"station_id\", data = train.loc[train.zone_id == 2], hue = \"pollutant\", fit_reg = False, scatter_kws={\"s\" : 5}, size = 4)\n",
    "plt.title(\"Train - zone 2\")\n",
    "plt.show()\n",
    "print(np.unique(test.loc[test.zone_id == 2].station_id))\n",
    "sns.lmplot(x = \"ID\", y = \"station_id\", data = test.loc[test.zone_id == 2], hue = \"pollutant\", fit_reg = False, scatter_kws={\"s\" : 5}, size = 4)\n",
    "plt.title(\"Test - zone 2\")\n",
    "plt.show()\n",
    "print(np.unique(train.loc[train.zone_id == 3].station_id))\n",
    "sns.lmplot(x = \"ID\", y = \"station_id\", data = train.loc[train.zone_id == 3], hue = \"pollutant\", fit_reg = False, scatter_kws={\"s\" : 5}, size = 4)\n",
    "plt.title(\"Train - zone 3\")\n",
    "plt.show()\n",
    "print(np.unique(test.loc[test.zone_id == 3].station_id))\n",
    "sns.lmplot(x = \"ID\", y = \"station_id\", data = test.loc[test.zone_id == 3], hue = \"pollutant\", fit_reg = False, scatter_kws={\"s\" : 5}, size = 4)\n",
    "plt.title(\"Test - zone 3\")\n",
    "plt.show()\n",
    "print(np.unique(train.loc[train.zone_id == 4].station_id))\n",
    "sns.lmplot(x = \"ID\", y = \"station_id\", data = train.loc[train.zone_id == 4], hue = \"pollutant\", fit_reg = False, scatter_kws={\"s\" : 5}, size = 4)\n",
    "plt.title(\"Train - zone 4\")\n",
    "plt.show()\n",
    "print(np.unique(test.loc[test.zone_id == 4].station_id))\n",
    "sns.lmplot(x = \"ID\", y = \"station_id\", data = test.loc[test.zone_id == 4], hue = \"pollutant\", fit_reg = False, scatter_kws={\"s\" : 5}, size = 4)\n",
    "plt.title(\"Test - zone 4\")\n",
    "plt.show()\n",
    "print(np.unique(train.loc[train.zone_id == 5].station_id))\n",
    "sns.lmplot(x = \"ID\", y = \"station_id\", data = train.loc[train.zone_id == 5], hue = \"pollutant\", fit_reg = False, scatter_kws={\"s\" : 5}, size = 4)\n",
    "plt.title(\"Train - zone 5\")\n",
    "plt.show()\n",
    "print(np.unique(test.loc[test.zone_id == 5].station_id))\n",
    "sns.lmplot(x = \"ID\", y = \"station_id\", data = test.loc[test.zone_id == 5], hue = \"pollutant\", fit_reg = False, scatter_kws={\"s\" : 5}, size = 4)\n",
    "plt.title(\"Test - zone 5\")\n",
    "plt.show()\n"
   ]
  },
  {
   "cell_type": "code",
   "execution_count": 15,
   "metadata": {
    "collapsed": true
   },
   "outputs": [],
   "source": [
    "# Split data by station for validation and ensembling\n",
    "test_stats = [20, 18, 9, 10, 8]\n",
    "testVal_stats = [17, 1, 25, 23, 5]\n",
    "\n",
    "X_test = train[train.station_id.isin(test_stats)]\n",
    "y_test = y[train.station_id.isin(test_stats)]\n",
    "X_train = train[-train.station_id.isin(test_stats)]\n",
    "y_train = y[-train.station_id.isin(test_stats)]\n",
    "\n",
    "X_testVal = X_train[X_train.station_id.isin(testVal_stats)]\n",
    "y_testVal = y_train[X_train.station_id.isin(testVal_stats)]\n",
    "X_trainVal = X_train[-X_train.station_id.isin(testVal_stats)]\n",
    "y_trainVal = y_train[-X_train.station_id.isin(testVal_stats)]\n"
   ]
  },
  {
   "cell_type": "code",
   "execution_count": 16,
   "metadata": {
    "collapsed": true
   },
   "outputs": [],
   "source": [
    "# Special case : split station 28 in 2 for X_test and X_testVal\n",
    "trainValIdx = train[(train.station_id == 28) & (train.ID < 219467)].index\n",
    "testValIdx = train[(train.station_id == 28) & (train.ID >= 219467)].index\n",
    "\n",
    "X_test = X_test.append(train.loc[trainValIdx])\n",
    "X_train = X_train.drop(train.index[[trainValIdx]])\n",
    "\n",
    "y_test = y_test.append(y.loc[trainValIdx])\n",
    "y_train = y_train.drop(y.index[[trainValIdx]])\n",
    "\n",
    "X_testVal = X_testVal.append(train.loc[trainValIdx])\n",
    "X_trainVal = X_trainVal.drop(train.index[[trainValIdx]])\n",
    "\n",
    "y_testVal = y_testVal.append(y.loc[trainValIdx])\n",
    "y_trainVal = y_trainVal.drop(y.index[[trainValIdx]])\n"
   ]
  },
  {
   "cell_type": "code",
   "execution_count": 17,
   "metadata": {
    "collapsed": true
   },
   "outputs": [],
   "source": [
    "# Remove ID and station_id fields to avoid overfitting\n",
    "train = train.drop([\"ID\", \"station_id\"], axis = 1)\n",
    "test = test.drop([\"station_id\"], axis = 1)\n",
    "X_train = X_train.drop([\"ID\", \"station_id\"], axis = 1)\n",
    "X_trainVal = X_trainVal.drop([\"ID\", \"station_id\"], axis = 1)\n",
    "X_test = X_test.drop([\"ID\", \"station_id\"], axis = 1)\n",
    "X_testVal = X_testVal.drop([\"ID\", \"station_id\"], axis = 1)"
   ]
  },
  {
   "cell_type": "code",
   "execution_count": 18,
   "metadata": {
    "collapsed": false
   },
   "outputs": [
    {
     "name": "stdout",
     "output_type": "stream",
     "text": [
      "(448169, 40)\n",
      "(300891, 41)\n",
      "(292046, 40)\n",
      "(156123, 40)\n",
      "(194060, 40)\n",
      "(118210, 40)\n"
     ]
    }
   ],
   "source": [
    "# Encode cat features\n",
    "train = pd.get_dummies(train)\n",
    "print(train.shape)\n",
    "test = pd.get_dummies(test)\n",
    "print(test.shape)\n",
    "X_train = pd.get_dummies(X_train)\n",
    "print(X_train.shape)\n",
    "X_test = pd.get_dummies(X_test)\n",
    "print(X_test.shape)\n",
    "X_trainVal = pd.get_dummies(X_trainVal)\n",
    "print(X_trainVal.shape)\n",
    "X_testVal = pd.get_dummies(X_testVal)\n",
    "print(X_testVal.shape)\n"
   ]
  },
  {
   "cell_type": "code",
   "execution_count": 19,
   "metadata": {
    "collapsed": true
   },
   "outputs": [],
   "source": [
    "# Write data in CSV files\n",
    "train.to_csv(\"clean_data/train_\" + DATA + \".csv\", index = False)\n",
    "y.to_csv(\"clean_data/y.csv\", index = False)\n",
    "\n",
    "X_train.to_csv(\"clean_data/X_train_\" + DATA + \".csv\", index = False)\n",
    "y_train.to_csv(\"clean_data/y_train.csv\", index = False)\n",
    "\n",
    "X_trainVal.to_csv(\"clean_data/X_trainVal_\" + DATA + \".csv\", index = False)\n",
    "y_trainVal.to_csv(\"clean_data/y_trainVal.csv\", index = False)\n",
    "\n",
    "test.to_csv(\"clean_data/test_\" + DATA + \".csv\", index = False)\n",
    "\n",
    "X_test.to_csv(\"clean_data/X_test_\" + DATA + \".csv\", index = False)\n",
    "y_test.to_csv(\"clean_data/y_test.csv\", index = False)\n",
    "\n",
    "X_testVal.to_csv(\"clean_data/X_testVal_\" + DATA + \".csv\", index = False)\n",
    "y_testVal.to_csv(\"clean_data/y_testVal.csv\", index = False)\n",
    "\n",
    "test.ID.to_csv(\"clean_data/testID.csv\", index = False, header = False)\n"
   ]
  },
  {
   "cell_type": "code",
   "execution_count": null,
   "metadata": {
    "collapsed": true
   },
   "outputs": [],
   "source": []
  }
 ],
 "metadata": {
  "kernelspec": {
   "display_name": "Python [Root]",
   "language": "python",
   "name": "Python [Root]"
  },
  "language_info": {
   "codemirror_mode": {
    "name": "ipython",
    "version": 3
   },
   "file_extension": ".py",
   "mimetype": "text/x-python",
   "name": "python",
   "nbconvert_exporter": "python",
   "pygments_lexer": "ipython3",
   "version": "3.5.2"
  }
 },
 "nbformat": 4,
 "nbformat_minor": 0
}
